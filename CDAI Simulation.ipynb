{
 "cells": [
  {
   "cell_type": "markdown",
   "metadata": {},
   "source": [
    "<font color=\"magenta\" size=9>Simulation of CDAI Dataset</font>"
   ]
  },
  {
   "cell_type": "markdown",
   "metadata": {},
   "source": [
    "Here we are going to try ot simulate the CDAI dataset using a stochastic proccess. We assume that CDAI follows brownian motion, so an individuals health moves randomly. The chances that the patient gets worse are the same that they get better. We also assume that if a patient get considerably worse at some timepoint, then they are removed from the study."
   ]
  },
  {
   "cell_type": "markdown",
   "metadata": {},
   "source": [
    "# <font color=\"gray\">Setup Notebook"
   ]
  },
  {
   "cell_type": "markdown",
   "metadata": {},
   "source": [
    "Import basic packages"
   ]
  },
  {
   "cell_type": "code",
   "execution_count": null,
   "metadata": {},
   "outputs": [],
   "source": [
    "%matplotlib inline\n",
    "import numpy as np\n",
    "import pandas as pd\n",
    "import matplotlib.pyplot as plt"
   ]
  },
  {
   "cell_type": "markdown",
   "metadata": {},
   "source": [
    "Import packages for creating widget app"
   ]
  },
  {
   "cell_type": "code",
   "execution_count": null,
   "metadata": {},
   "outputs": [],
   "source": [
    "import ipywidgets as ipw\n",
    "from ipywidgets import interact_manual\n",
    "from IPython.core.display import HTML, display, Javascript, clear_output"
   ]
  },
  {
   "cell_type": "markdown",
   "metadata": {},
   "source": [
    "# <font color=\"blue\">Sanity Check: Graph Random Walk"
   ]
  },
  {
   "cell_type": "markdown",
   "metadata": {},
   "source": [
    "##  <font color=\"blue\">Create Dataset"
   ]
  },
  {
   "cell_type": "markdown",
   "metadata": {},
   "source": [
    "Decide number of subjects and number of subjects and number of timesteps for simulation"
   ]
  },
  {
   "cell_type": "markdown",
   "metadata": {},
   "source": [
    "<font color=\"red\">Note: this can later be replaced by an ipywidget"
   ]
  },
  {
   "cell_type": "code",
   "execution_count": null,
   "metadata": {},
   "outputs": [],
   "source": [
    "num_subjects = 200\n",
    "num_steps  =  30"
   ]
  },
  {
   "cell_type": "markdown",
   "metadata": {},
   "source": [
    "Create starting values"
   ]
  },
  {
   "cell_type": "code",
   "execution_count": null,
   "metadata": {},
   "outputs": [],
   "source": [
    "data = pd.DataFrame( np.random.normal(0,1, num_subjects) )"
   ]
  },
  {
   "cell_type": "code",
   "execution_count": null,
   "metadata": {},
   "outputs": [],
   "source": [
    "plt.hist(data[0])"
   ]
  },
  {
   "cell_type": "markdown",
   "metadata": {},
   "source": [
    "Iteratively add data"
   ]
  },
  {
   "cell_type": "code",
   "execution_count": null,
   "metadata": {
    "scrolled": true
   },
   "outputs": [],
   "source": [
    "for i in range(num_steps-1):\n",
    "    data[ data.shape[1] ] = data[ data.shape[1]-1 ] + np.random.normal(0,1, num_subjects) "
   ]
  },
  {
   "cell_type": "code",
   "execution_count": null,
   "metadata": {
    "scrolled": true
   },
   "outputs": [],
   "source": [
    "data"
   ]
  },
  {
   "cell_type": "markdown",
   "metadata": {},
   "source": [
    "##  <font color=\"blue\">Plot Dataset"
   ]
  },
  {
   "cell_type": "markdown",
   "metadata": {},
   "source": [
    "### <font color=\"blue\">Line Plot"
   ]
  },
  {
   "cell_type": "markdown",
   "metadata": {},
   "source": [
    "Transpose the dataset to make plotting easier\n"
   ]
  },
  {
   "cell_type": "code",
   "execution_count": null,
   "metadata": {},
   "outputs": [],
   "source": [
    " data_graph = data.T"
   ]
  },
  {
   "cell_type": "code",
   "execution_count": null,
   "metadata": {
    "scrolled": true
   },
   "outputs": [],
   "source": [
    "data_graph"
   ]
  },
  {
   "cell_type": "markdown",
   "metadata": {},
   "source": [
    "Plot each subject into graph"
   ]
  },
  {
   "cell_type": "code",
   "execution_count": null,
   "metadata": {},
   "outputs": [],
   "source": [
    "plt.figure(figsize=(18, 10) )\n",
    "for i in range(data_graph.shape[1]):\n",
    "    plt.plot(  range(data_graph.shape[0]), data_graph[i], color=\"gray\", alpha=0.5, linewidth=.5  ) #,# data=data_graph) #, marker='', color='olive', linewidth=2)\n",
    "plt.show()\n"
   ]
  },
  {
   "cell_type": "markdown",
   "metadata": {},
   "source": [
    "### <font color=\"blue\">Box Plot"
   ]
  },
  {
   "cell_type": "code",
   "execution_count": null,
   "metadata": {},
   "outputs": [],
   "source": [
    "data.boxplot( figsize=(18,10) )"
   ]
  },
  {
   "cell_type": "markdown",
   "metadata": {},
   "source": [
    "# <font color=\"green\">CDAI Simulation"
   ]
  },
  {
   "cell_type": "markdown",
   "metadata": {},
   "source": [
    "## <font color=\"darkRed\">Create Dataset"
   ]
  },
  {
   "cell_type": "markdown",
   "metadata": {},
   "source": [
    "Decide number of subjects and number of subjects and number of timesteps for simulation"
   ]
  },
  {
   "cell_type": "markdown",
   "metadata": {},
   "source": [
    "<font color=\"red\">Note: this can later be replaced by an ipywidget "
   ]
  },
  {
   "cell_type": "code",
   "execution_count": null,
   "metadata": {},
   "outputs": [],
   "source": [
    "num_subjects = 300\n",
    "num_steps  =  15\n",
    "sd_cutoff = 1.7"
   ]
  },
  {
   "cell_type": "markdown",
   "metadata": {},
   "source": [
    "Create starting data"
   ]
  },
  {
   "cell_type": "code",
   "execution_count": null,
   "metadata": {},
   "outputs": [],
   "source": [
    "data = pd.DataFrame( np.random.normal( 0,1, num_subjects) )"
   ]
  },
  {
   "cell_type": "code",
   "execution_count": null,
   "metadata": {
    "scrolled": true
   },
   "outputs": [],
   "source": [
    "plt.hist(data[0])"
   ]
  },
  {
   "cell_type": "markdown",
   "metadata": {},
   "source": [
    "Iteratively add data"
   ]
  },
  {
   "cell_type": "code",
   "execution_count": null,
   "metadata": {},
   "outputs": [],
   "source": [
    "for i in range(num_steps-1):\n",
    "    rand_noise = np.random.normal(0,1, num_subjects)               # create noise for next step\n",
    "    rand_noise[ np.where( rand_noise > sd_cutoff )[0] ] = np.nan   # make NaN values according to sd_cutoff\n",
    "    data[ data.shape[1] ] = data[ data.shape[1]-1 ] + rand_noise   # combine noise with previous values "
   ]
  },
  {
   "cell_type": "code",
   "execution_count": null,
   "metadata": {
    "scrolled": true
   },
   "outputs": [],
   "source": [
    "data"
   ]
  },
  {
   "cell_type": "markdown",
   "metadata": {},
   "source": [
    "## <font color=\"lightGreen\">Graph Dataset"
   ]
  },
  {
   "cell_type": "markdown",
   "metadata": {},
   "source": [
    "### <font color=\"lightGreen\">Line Plot"
   ]
  },
  {
   "cell_type": "markdown",
   "metadata": {},
   "source": [
    "Transpose the dataset to make plotting easier"
   ]
  },
  {
   "cell_type": "code",
   "execution_count": null,
   "metadata": {},
   "outputs": [],
   "source": [
    " data_graph = data.T"
   ]
  },
  {
   "cell_type": "markdown",
   "metadata": {},
   "source": [
    "Plot each subject into graph"
   ]
  },
  {
   "cell_type": "code",
   "execution_count": null,
   "metadata": {},
   "outputs": [],
   "source": [
    "plt.figure(figsize=(18, 10) )\n",
    "for i in range(data_graph.shape[1]):\n",
    "    plt.plot(  range(data_graph.shape[0]), data_graph[i], color=\"gray\", alpha=0.5, linewidth=.5  ) #,# data=data_graph) #, marker='', color='olive', linewidth=2)\n",
    "plt.show()\n"
   ]
  },
  {
   "cell_type": "markdown",
   "metadata": {},
   "source": [
    "### <font color=\"lightGreen\">Box Plot"
   ]
  },
  {
   "cell_type": "code",
   "execution_count": null,
   "metadata": {},
   "outputs": [],
   "source": [
    "data.boxplot( figsize=(18,10) )"
   ]
  },
  {
   "cell_type": "markdown",
   "metadata": {},
   "source": [
    "### <font color=\"lightGreen\">Calculate Key Statistics"
   ]
  },
  {
   "cell_type": "markdown",
   "metadata": {},
   "source": [
    "Calculate percent of subjects removed from study"
   ]
  },
  {
   "cell_type": "code",
   "execution_count": null,
   "metadata": {},
   "outputs": [],
   "source": [
    "sum( pd.isna( data[ data.shape[1]-1 ]  ) ) / data.shape[0]"
   ]
  },
  {
   "cell_type": "code",
   "execution_count": null,
   "metadata": {},
   "outputs": [],
   "source": []
  },
  {
   "cell_type": "markdown",
   "metadata": {},
   "source": [
    "# <font color=\"magenta\">Widget Application"
   ]
  },
  {
   "cell_type": "markdown",
   "metadata": {},
   "source": [
    "You can use this tool to **simulate the CDAI Dataset**.  "
   ]
  },
  {
   "cell_type": "markdown",
   "metadata": {},
   "source": [
    "In the simulation you can decide the length of the experiment, the number of subjects, and the cutoff valeus doctors use to remove patients from the study. "
   ]
  },
  {
   "cell_type": "code",
   "execution_count": null,
   "metadata": {
    "scrolled": false
   },
   "outputs": [],
   "source": [
    "@interact_manual( num_subjects=(10,2000), num_steps=(5,50), sd_cutoff=(.5,2) )\n",
    "def simulator(num_subjects, num_steps, sd_cutoff  ):\n",
    "    \n",
    "    # Create Dataset for Brownian motion\n",
    "    display(HTML(\"<h1 style='color:brown'> Brownian Motion </h1>\"))\n",
    "    data = pd.DataFrame( np.random.normal(0,1, num_subjects) )\n",
    "    for i in range(num_steps-1):\n",
    "        data[ data.shape[1] ] = data[ data.shape[1]-1 ] + np.random.normal(0,1, num_subjects) \n",
    "    \n",
    "    # Create Graphs for Brownian Motion\n",
    "    plt.figure(figsize=(14, 7) )\n",
    "    for i in range(data.T.shape[1]):\n",
    "        plt.plot(  range(1,data.T.shape[0]+1), data.T[i], color=\"gray\", alpha=0.2, linewidth=.3  )\n",
    "    data.boxplot(figsize=(14,7))\n",
    "    plt.show()\n",
    "    \n",
    "    # Create Dataset for CDAI Simulaiton\n",
    "    display(HTML(\"<h1 style='color:magenta'> CDAI Simulator </h1>\"))\n",
    "    data = pd.DataFrame( np.random.normal(0,1, num_subjects) )\n",
    "    for i in range(num_steps-1):\n",
    "        rand_noise = np.random.normal(0,1, num_subjects)               # create noise for next step\n",
    "        rand_noise[ np.where( rand_noise > sd_cutoff )[0] ] = np.nan   # make NaN values according to sd_cutoff\n",
    "        data[ data.shape[1] ] = data[ data.shape[1]-1 ] + rand_noise   # combine noise with previous values \n",
    "    \n",
    "    # Create Graph For CDAI Simulation\n",
    "    plt.figure(figsize=(14, 7) )\n",
    "    removed = sum( pd.isna( data[ data.shape[1]-1 ]  ) ) / data.shape[0]\n",
    "    display(HTML(f\"<h3>Subjects Removed : {int(removed*100)}%</h3>\"))\n",
    "    for i in range(data.T.shape[1]):\n",
    "        plt.plot(  range(1,data.T.shape[0]+1), data.T[i], color=\"gray\", alpha=0.2, linewidth=.3  )\n",
    "    display( data.boxplot(figsize=(14,7)) ) \n",
    "    plt.show()\n"
   ]
  },
  {
   "cell_type": "code",
   "execution_count": null,
   "metadata": {},
   "outputs": [],
   "source": []
  }
 ],
 "metadata": {
  "hide_input": false,
  "kernelspec": {
   "display_name": "Python 3",
   "language": "python",
   "name": "python3"
  },
  "language_info": {
   "codemirror_mode": {
    "name": "ipython",
    "version": 3
   },
   "file_extension": ".py",
   "mimetype": "text/x-python",
   "name": "python",
   "nbconvert_exporter": "python",
   "pygments_lexer": "ipython3",
   "version": "3.7.3"
  },
  "toc": {
   "base_numbering": 1,
   "nav_menu": {},
   "number_sections": true,
   "sideBar": true,
   "skip_h1_title": false,
   "title_cell": "Table of Contents",
   "title_sidebar": "Contents",
   "toc_cell": false,
   "toc_position": {},
   "toc_section_display": true,
   "toc_window_display": false
  },
  "varInspector": {
   "cols": {
    "lenName": 16,
    "lenType": 16,
    "lenVar": 40
   },
   "kernels_config": {
    "python": {
     "delete_cmd_postfix": "",
     "delete_cmd_prefix": "del ",
     "library": "var_list.py",
     "varRefreshCmd": "print(var_dic_list())"
    },
    "r": {
     "delete_cmd_postfix": ") ",
     "delete_cmd_prefix": "rm(",
     "library": "var_list.r",
     "varRefreshCmd": "cat(var_dic_list()) "
    }
   },
   "types_to_exclude": [
    "module",
    "function",
    "builtin_function_or_method",
    "instance",
    "_Feature"
   ],
   "window_display": false
  },
  "widgets": {
   "application/vnd.jupyter.widget-state+json": {
    "state": {},
    "version_major": 2,
    "version_minor": 0
   }
  }
 },
 "nbformat": 4,
 "nbformat_minor": 2
}
